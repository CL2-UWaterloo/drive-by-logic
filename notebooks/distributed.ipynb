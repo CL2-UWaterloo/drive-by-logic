{
 "cells": [
  {
   "cell_type": "code",
   "execution_count": 43,
   "metadata": {},
   "outputs": [
    {
     "data": {
      "text/plain": [
       "DM([[4e+08, 80000]])"
      ]
     },
     "execution_count": 43,
     "metadata": {},
     "output_type": "execute_result"
    }
   ],
   "source": [
    "from casadi import *\n",
    "\n",
    "x = MX.sym(\"x\"); z = MX.sym(\"z\")\n",
    "y = power(x*z, 2)\n",
    "\n",
    "fun = Function(\"fun\", [x, z], [y])\n",
    "fun2 = Function(\"fun2\", [x, z], [jacobian(y, veccat(z, x))])\n",
    "\n",
    "fun2(10000, 2)"
   ]
  },
  {
   "cell_type": "code",
   "execution_count": 44,
   "metadata": {},
   "outputs": [],
   "source": [
    "#!/usr/bin/python3\n",
    "\n",
    "from dataclasses import dataclass\n",
    "from casadi import *\n",
    "\n",
    "@dataclass\n",
    "class Waypoint:\n",
    "    X : MX | DM # State of the robot (3, 1) = (x, y, theta)\n",
    "    U : MX | DM # Control Inputs to the robot (v, k); s -> rate of change of curvature (2, 1)\n",
    "    t : MX | DM # Time taken for transitioning from the previous state to the current state\n",
    "\n",
    "    @property\n",
    "    def x(self):\n",
    "        return self.X[0]\n",
    "    \n",
    "    @x.setter\n",
    "    def x(self, value : MX) -> None:\n",
    "        self.X[0] = value\n",
    "\n",
    "    @property\n",
    "    def y(self):\n",
    "        return self.X[1]\n",
    "\n",
    "    @y.setter\n",
    "    def y(self, value : MX) -> None:\n",
    "        self.X[1] = value\n",
    "\n",
    "    @property\n",
    "    def theta(self):\n",
    "        return self.X[2]\n",
    "\n",
    "    @theta.setter\n",
    "    def theta(self, value : MX) -> None:\n",
    "        self.X[2] = value\n",
    "\n",
    "    @property\n",
    "    def k(self):\n",
    "        return self.U[1]\n",
    "\n",
    "    @k.setter\n",
    "    def k(self, value : MX) -> None:\n",
    "        self.U[1] = value\n",
    "\n",
    "    @property\n",
    "    def v(self):\n",
    "        return self.U[0]\n",
    "\n",
    "    @v.setter\n",
    "    def v(self, value : MX) -> None:\n",
    "        self.U[0] = value\n",
    "\n",
    "    @staticmethod\n",
    "    def from_list(value):\n",
    "        ret = Waypoint(X=DM(vertcat(value[0:3])), U=DM(vertcat(value[3:5])), t=DM(value[6]))\n",
    "        return ret\n",
    "    \n",
    "    def matrix_form(self):\n",
    "        return vertcat(self.X, self.U, self.t)"
   ]
  },
  {
   "cell_type": "code",
   "execution_count": 45,
   "metadata": {},
   "outputs": [
    {
     "data": {
      "text/plain": [
       "MX((5*lool(zeros(6x1,0nz), zeros(6x1,0nz), zeros(6x1,0nz), zeros(6x1,0nz), zeros(6x1,0nz), zeros(6x1,0nz), zeros(6x1,0nz), zeros(6x1,0nz), zeros(6x1,0nz), zeros(6x1,0nz)){0}))"
      ]
     },
     "execution_count": 45,
     "metadata": {},
     "output_type": "execute_result"
    }
   ],
   "source": [
    "number_of_waypoints = 10\n",
    "x = Waypoint(MX.zeros(3, 1), MX.zeros(2, 1), MX(1, 1))\n",
    "z = Waypoint(MX.ones(3, 1), MX.zeros(2, 1), MX(1, 1))\n",
    "func = Function(\"lool\",\n",
    "    [\n",
    "        vertcat(MX(3, 1), MX(2, 1), MX(1, 1))    \n",
    "    ]*number_of_waypoints,\n",
    "    [\n",
    "        DM.inf(1, 1)\n",
    "    ]\n",
    ")\n",
    "\n",
    "sample_points = []\n",
    "for i in range(number_of_waypoints):\n",
    "    sample_points.append(\n",
    "        vertcat(x.X, x.U, x.t)\n",
    "    )\n",
    "\n",
    "output = func(*sample_points)\n",
    "output*5"
   ]
  },
  {
   "cell_type": "code",
   "execution_count": 56,
   "metadata": {},
   "outputs": [
    {
     "data": {
      "text/plain": [
       "MX(h(vertcat(x, x, x, x, x, x)){0})"
      ]
     },
     "execution_count": 56,
     "metadata": {},
     "output_type": "execute_result"
    }
   ],
   "source": [
    "signals = []\n",
    "x = MX.sym(\"x\", 1, 1)\n",
    "for i in range(1):\n",
    "    signals.append(\n",
    "        Waypoint(\n",
    "            vertcat(x, x, x),\n",
    "            vertcat(x, x),\n",
    "            x\n",
    "        )\n",
    "    )\n",
    "\n",
    "y_ = MX.sym(\"vecy\", 6*len(signals), 1)\n",
    "y = veccat(\n",
    "    *[object.matrix_form() for object in signals]\n",
    ")\n",
    "\n",
    "fun = Function(\"h\", [y_], [1])\n",
    "fun(y)"
   ]
  },
  {
   "cell_type": "code",
   "execution_count": 57,
   "metadata": {},
   "outputs": [
    {
     "name": "stdout",
     "output_type": "stream",
     "text": [
      "[[Waypoint(X=DM([0, 0, 0]), U=DM([0, 0]), t=DM(0)), Waypoint(X=DM([0, 0, 0]), U=DM([0, 0]), t=DM(0)), Waypoint(X=DM([0, 0, 0]), U=DM([0, 0]), t=DM(0)), Waypoint(X=DM([0, 0, 0]), U=DM([0, 0]), t=DM(0)), Waypoint(X=DM([0, 0, 0]), U=DM([0, 0]), t=DM(0)), Waypoint(X=DM([0, 0, 0]), U=DM([0, 0]), t=DM(0)), Waypoint(X=DM([0, 0, 0]), U=DM([0, 0]), t=DM(0)), Waypoint(X=DM([0, 0, 0]), U=DM([0, 0]), t=DM(0)), Waypoint(X=DM([0, 0, 0]), U=DM([0, 0]), t=DM(0)), Waypoint(X=DM([0, 0, 0]), U=DM([0, 0]), t=DM(0))]]\n"
     ]
    }
   ],
   "source": [
    "lol = []\n",
    "lol.append(\n",
    "    [Waypoint(\n",
    "        X=vertcat(0, 0, 0),\n",
    "        U=vertcat(0, 0),\n",
    "        t=vertcat(0)\n",
    "    )]*10\n",
    ")\n",
    "\n",
    "print(lol)"
   ]
  },
  {
   "cell_type": "code",
   "execution_count": 58,
   "metadata": {},
   "outputs": [
    {
     "data": {
      "text/plain": [
       "DM([0, 0])"
      ]
     },
     "execution_count": 58,
     "metadata": {},
     "output_type": "execute_result"
    }
   ],
   "source": [
    "vertcat(0, vertcat(0))"
   ]
  },
  {
   "cell_type": "code",
   "execution_count": 6,
   "metadata": {},
   "outputs": [
    {
     "data": {
      "text/plain": [
       "1"
      ]
     },
     "execution_count": 6,
     "metadata": {},
     "output_type": "execute_result"
    }
   ],
   "source": [
    "from random import randint\n",
    "\n",
    "randint(0, 1)"
   ]
  }
 ],
 "metadata": {
  "kernelspec": {
   "display_name": "Python 3",
   "language": "python",
   "name": "python3"
  },
  "language_info": {
   "codemirror_mode": {
    "name": "ipython",
    "version": 3
   },
   "file_extension": ".py",
   "mimetype": "text/x-python",
   "name": "python",
   "nbconvert_exporter": "python",
   "pygments_lexer": "ipython3",
   "version": "3.10.12"
  }
 },
 "nbformat": 4,
 "nbformat_minor": 2
}
